{
 "cells": [
  {
   "cell_type": "code",
   "execution_count": 32,
   "outputs": [
    {
     "data": {
      "text/plain": "Sex                Man  Woman  Man %  Woman %\nGenre       Year                             \nAction      2000  2115    923   69.6     30.4\n            2001  2365   1042   69.4     30.6\n            2002  2237   1005   69.0     31.0\n            2003  2280   1026   69.0     31.0\n            2004  2407   1070   69.2     30.8\n            2005  2373   1033   69.7     30.3\nAdult       2000   129    204   38.7     61.3\n            2001   139    232   37.5     62.5\n            2002   149    221   40.3     59.7\n            2003   164    307   34.8     65.2\n            2004   213    294   42.0     58.0\n            2005   184    364   33.6     66.4\nAdventure   2000   805    457   63.8     36.2\n            2001   994    532   65.1     34.9\n            2002   957    566   62.8     37.2\n            2003  1174    664   63.9     36.1\n            2004  1004    551   64.6     35.4\n            2005  1116    604   64.9     35.1\nAnimation   2000   839    636   56.9     43.1\n            2001  1016    759   57.2     42.8\n            2002   948    721   56.8     43.2\n            2003  1184    898   56.9     43.1\n            2004  1165    828   58.5     41.5\n            2005  1170    943   55.4     44.6\nBiography   2000   231    108   68.1     31.9\n            2001   212    109   66.0     34.0\n            2002   177     98   64.4     35.6\n            2003   185    102   64.5     35.5\n            2004   251    135   65.0     35.0\n            2005   335    137   71.0     29.0\nComedy      2000  4684   3021   60.8     39.2\n            2001  4926   3168   60.9     39.1\n            2002  5316   3337   61.4     38.6\n            2003  6083   3658   62.4     37.6\n            2004  6157   3845   61.6     38.4\n            2005  7062   4466   61.3     38.7\nCrime       2000  1623    747   68.5     31.5\n            2001  1565    771   67.0     33.0\n            2002  1620    804   66.8     33.2\n            2003  1643    780   67.8     32.2\n            2004  1592    759   67.7     32.3\n            2005  1741    852   67.1     32.9\nDocumentary 2000   724    313   69.8     30.2\n            2001   775    319   70.8     29.2\n            2002   890    395   69.3     30.7\n            2003  1187    504   70.2     29.8\n            2004  1326    520   71.8     28.2\n            2005  1463    564   72.2     27.8\nDrama       2000  6657   4322   60.6     39.4\n            2001  7264   4918   59.6     40.4\n            2002  7541   5250   59.0     41.0\n            2003  7880   5440   59.2     40.8\n            2004  8493   5882   59.1     40.9\n            2005  9469   6626   58.8     41.2\nFamily      2000   938    644   59.3     40.7\n            2001  1074    733   59.4     40.6\n            2002  1129    839   57.4     42.6\n            2003  1091    746   59.4     40.6\n            2004   948    711   57.1     42.9\n            2005   982    754   56.6     43.4",
      "text/html": "<div>\n<style scoped>\n    .dataframe tbody tr th:only-of-type {\n        vertical-align: middle;\n    }\n\n    .dataframe tbody tr th {\n        vertical-align: top;\n    }\n\n    .dataframe thead th {\n        text-align: right;\n    }\n</style>\n<table border=\"1\" class=\"dataframe\">\n  <thead>\n    <tr style=\"text-align: right;\">\n      <th></th>\n      <th>Sex</th>\n      <th>Man</th>\n      <th>Woman</th>\n      <th>Man %</th>\n      <th>Woman %</th>\n    </tr>\n    <tr>\n      <th>Genre</th>\n      <th>Year</th>\n      <th></th>\n      <th></th>\n      <th></th>\n      <th></th>\n    </tr>\n  </thead>\n  <tbody>\n    <tr>\n      <th rowspan=\"6\" valign=\"top\">Action</th>\n      <th>2000</th>\n      <td>2115</td>\n      <td>923</td>\n      <td>69.6</td>\n      <td>30.4</td>\n    </tr>\n    <tr>\n      <th>2001</th>\n      <td>2365</td>\n      <td>1042</td>\n      <td>69.4</td>\n      <td>30.6</td>\n    </tr>\n    <tr>\n      <th>2002</th>\n      <td>2237</td>\n      <td>1005</td>\n      <td>69.0</td>\n      <td>31.0</td>\n    </tr>\n    <tr>\n      <th>2003</th>\n      <td>2280</td>\n      <td>1026</td>\n      <td>69.0</td>\n      <td>31.0</td>\n    </tr>\n    <tr>\n      <th>2004</th>\n      <td>2407</td>\n      <td>1070</td>\n      <td>69.2</td>\n      <td>30.8</td>\n    </tr>\n    <tr>\n      <th>2005</th>\n      <td>2373</td>\n      <td>1033</td>\n      <td>69.7</td>\n      <td>30.3</td>\n    </tr>\n    <tr>\n      <th rowspan=\"6\" valign=\"top\">Adult</th>\n      <th>2000</th>\n      <td>129</td>\n      <td>204</td>\n      <td>38.7</td>\n      <td>61.3</td>\n    </tr>\n    <tr>\n      <th>2001</th>\n      <td>139</td>\n      <td>232</td>\n      <td>37.5</td>\n      <td>62.5</td>\n    </tr>\n    <tr>\n      <th>2002</th>\n      <td>149</td>\n      <td>221</td>\n      <td>40.3</td>\n      <td>59.7</td>\n    </tr>\n    <tr>\n      <th>2003</th>\n      <td>164</td>\n      <td>307</td>\n      <td>34.8</td>\n      <td>65.2</td>\n    </tr>\n    <tr>\n      <th>2004</th>\n      <td>213</td>\n      <td>294</td>\n      <td>42.0</td>\n      <td>58.0</td>\n    </tr>\n    <tr>\n      <th>2005</th>\n      <td>184</td>\n      <td>364</td>\n      <td>33.6</td>\n      <td>66.4</td>\n    </tr>\n    <tr>\n      <th rowspan=\"6\" valign=\"top\">Adventure</th>\n      <th>2000</th>\n      <td>805</td>\n      <td>457</td>\n      <td>63.8</td>\n      <td>36.2</td>\n    </tr>\n    <tr>\n      <th>2001</th>\n      <td>994</td>\n      <td>532</td>\n      <td>65.1</td>\n      <td>34.9</td>\n    </tr>\n    <tr>\n      <th>2002</th>\n      <td>957</td>\n      <td>566</td>\n      <td>62.8</td>\n      <td>37.2</td>\n    </tr>\n    <tr>\n      <th>2003</th>\n      <td>1174</td>\n      <td>664</td>\n      <td>63.9</td>\n      <td>36.1</td>\n    </tr>\n    <tr>\n      <th>2004</th>\n      <td>1004</td>\n      <td>551</td>\n      <td>64.6</td>\n      <td>35.4</td>\n    </tr>\n    <tr>\n      <th>2005</th>\n      <td>1116</td>\n      <td>604</td>\n      <td>64.9</td>\n      <td>35.1</td>\n    </tr>\n    <tr>\n      <th rowspan=\"6\" valign=\"top\">Animation</th>\n      <th>2000</th>\n      <td>839</td>\n      <td>636</td>\n      <td>56.9</td>\n      <td>43.1</td>\n    </tr>\n    <tr>\n      <th>2001</th>\n      <td>1016</td>\n      <td>759</td>\n      <td>57.2</td>\n      <td>42.8</td>\n    </tr>\n    <tr>\n      <th>2002</th>\n      <td>948</td>\n      <td>721</td>\n      <td>56.8</td>\n      <td>43.2</td>\n    </tr>\n    <tr>\n      <th>2003</th>\n      <td>1184</td>\n      <td>898</td>\n      <td>56.9</td>\n      <td>43.1</td>\n    </tr>\n    <tr>\n      <th>2004</th>\n      <td>1165</td>\n      <td>828</td>\n      <td>58.5</td>\n      <td>41.5</td>\n    </tr>\n    <tr>\n      <th>2005</th>\n      <td>1170</td>\n      <td>943</td>\n      <td>55.4</td>\n      <td>44.6</td>\n    </tr>\n    <tr>\n      <th rowspan=\"6\" valign=\"top\">Biography</th>\n      <th>2000</th>\n      <td>231</td>\n      <td>108</td>\n      <td>68.1</td>\n      <td>31.9</td>\n    </tr>\n    <tr>\n      <th>2001</th>\n      <td>212</td>\n      <td>109</td>\n      <td>66.0</td>\n      <td>34.0</td>\n    </tr>\n    <tr>\n      <th>2002</th>\n      <td>177</td>\n      <td>98</td>\n      <td>64.4</td>\n      <td>35.6</td>\n    </tr>\n    <tr>\n      <th>2003</th>\n      <td>185</td>\n      <td>102</td>\n      <td>64.5</td>\n      <td>35.5</td>\n    </tr>\n    <tr>\n      <th>2004</th>\n      <td>251</td>\n      <td>135</td>\n      <td>65.0</td>\n      <td>35.0</td>\n    </tr>\n    <tr>\n      <th>2005</th>\n      <td>335</td>\n      <td>137</td>\n      <td>71.0</td>\n      <td>29.0</td>\n    </tr>\n    <tr>\n      <th rowspan=\"6\" valign=\"top\">Comedy</th>\n      <th>2000</th>\n      <td>4684</td>\n      <td>3021</td>\n      <td>60.8</td>\n      <td>39.2</td>\n    </tr>\n    <tr>\n      <th>2001</th>\n      <td>4926</td>\n      <td>3168</td>\n      <td>60.9</td>\n      <td>39.1</td>\n    </tr>\n    <tr>\n      <th>2002</th>\n      <td>5316</td>\n      <td>3337</td>\n      <td>61.4</td>\n      <td>38.6</td>\n    </tr>\n    <tr>\n      <th>2003</th>\n      <td>6083</td>\n      <td>3658</td>\n      <td>62.4</td>\n      <td>37.6</td>\n    </tr>\n    <tr>\n      <th>2004</th>\n      <td>6157</td>\n      <td>3845</td>\n      <td>61.6</td>\n      <td>38.4</td>\n    </tr>\n    <tr>\n      <th>2005</th>\n      <td>7062</td>\n      <td>4466</td>\n      <td>61.3</td>\n      <td>38.7</td>\n    </tr>\n    <tr>\n      <th rowspan=\"6\" valign=\"top\">Crime</th>\n      <th>2000</th>\n      <td>1623</td>\n      <td>747</td>\n      <td>68.5</td>\n      <td>31.5</td>\n    </tr>\n    <tr>\n      <th>2001</th>\n      <td>1565</td>\n      <td>771</td>\n      <td>67.0</td>\n      <td>33.0</td>\n    </tr>\n    <tr>\n      <th>2002</th>\n      <td>1620</td>\n      <td>804</td>\n      <td>66.8</td>\n      <td>33.2</td>\n    </tr>\n    <tr>\n      <th>2003</th>\n      <td>1643</td>\n      <td>780</td>\n      <td>67.8</td>\n      <td>32.2</td>\n    </tr>\n    <tr>\n      <th>2004</th>\n      <td>1592</td>\n      <td>759</td>\n      <td>67.7</td>\n      <td>32.3</td>\n    </tr>\n    <tr>\n      <th>2005</th>\n      <td>1741</td>\n      <td>852</td>\n      <td>67.1</td>\n      <td>32.9</td>\n    </tr>\n    <tr>\n      <th rowspan=\"6\" valign=\"top\">Documentary</th>\n      <th>2000</th>\n      <td>724</td>\n      <td>313</td>\n      <td>69.8</td>\n      <td>30.2</td>\n    </tr>\n    <tr>\n      <th>2001</th>\n      <td>775</td>\n      <td>319</td>\n      <td>70.8</td>\n      <td>29.2</td>\n    </tr>\n    <tr>\n      <th>2002</th>\n      <td>890</td>\n      <td>395</td>\n      <td>69.3</td>\n      <td>30.7</td>\n    </tr>\n    <tr>\n      <th>2003</th>\n      <td>1187</td>\n      <td>504</td>\n      <td>70.2</td>\n      <td>29.8</td>\n    </tr>\n    <tr>\n      <th>2004</th>\n      <td>1326</td>\n      <td>520</td>\n      <td>71.8</td>\n      <td>28.2</td>\n    </tr>\n    <tr>\n      <th>2005</th>\n      <td>1463</td>\n      <td>564</td>\n      <td>72.2</td>\n      <td>27.8</td>\n    </tr>\n    <tr>\n      <th rowspan=\"6\" valign=\"top\">Drama</th>\n      <th>2000</th>\n      <td>6657</td>\n      <td>4322</td>\n      <td>60.6</td>\n      <td>39.4</td>\n    </tr>\n    <tr>\n      <th>2001</th>\n      <td>7264</td>\n      <td>4918</td>\n      <td>59.6</td>\n      <td>40.4</td>\n    </tr>\n    <tr>\n      <th>2002</th>\n      <td>7541</td>\n      <td>5250</td>\n      <td>59.0</td>\n      <td>41.0</td>\n    </tr>\n    <tr>\n      <th>2003</th>\n      <td>7880</td>\n      <td>5440</td>\n      <td>59.2</td>\n      <td>40.8</td>\n    </tr>\n    <tr>\n      <th>2004</th>\n      <td>8493</td>\n      <td>5882</td>\n      <td>59.1</td>\n      <td>40.9</td>\n    </tr>\n    <tr>\n      <th>2005</th>\n      <td>9469</td>\n      <td>6626</td>\n      <td>58.8</td>\n      <td>41.2</td>\n    </tr>\n    <tr>\n      <th rowspan=\"6\" valign=\"top\">Family</th>\n      <th>2000</th>\n      <td>938</td>\n      <td>644</td>\n      <td>59.3</td>\n      <td>40.7</td>\n    </tr>\n    <tr>\n      <th>2001</th>\n      <td>1074</td>\n      <td>733</td>\n      <td>59.4</td>\n      <td>40.6</td>\n    </tr>\n    <tr>\n      <th>2002</th>\n      <td>1129</td>\n      <td>839</td>\n      <td>57.4</td>\n      <td>42.6</td>\n    </tr>\n    <tr>\n      <th>2003</th>\n      <td>1091</td>\n      <td>746</td>\n      <td>59.4</td>\n      <td>40.6</td>\n    </tr>\n    <tr>\n      <th>2004</th>\n      <td>948</td>\n      <td>711</td>\n      <td>57.1</td>\n      <td>42.9</td>\n    </tr>\n    <tr>\n      <th>2005</th>\n      <td>982</td>\n      <td>754</td>\n      <td>56.6</td>\n      <td>43.4</td>\n    </tr>\n  </tbody>\n</table>\n</div>"
     },
     "execution_count": 32,
     "metadata": {},
     "output_type": "execute_result"
    }
   ],
   "source": [
    "import sqlite3\n",
    "import pandas as pd\n",
    "\n",
    "\n",
    "con = sqlite3.connect('imdb_small_indexed.db') # коннект к бд\n",
    "cur = con.cursor() # инициализация курсора\n",
    "\n",
    "# Переменнные для передачи в запрос\n",
    "genre1 = 1 # ID жанра от\n",
    "genre2 = 10 # до\n",
    "year1 = 2000 # Год от\n",
    "year2 = 2005 # до\n",
    "\n",
    "# Запрос\n",
    "query = \"\"\"select gt.genre_name,count(rc.id) as count, rc.role_type, t.premiered as Year\n",
    "from titles t join crew c on t.title_id = c.title_id\n",
    "    join role_categories rc on c.category = rc.id\n",
    "    join film_genres fg on t.title_id = fg.title_id\n",
    "    join genre_types gt on fg.genre_id = gt.id\n",
    "where rc.id in (1, 2) and gt.id between ? and ? and t.premiered between ? and ?-- ? - Переменная\n",
    "group by rc.role_type, gt.genre_name, t.premiered\n",
    "order by gt.id asc\n",
    "\"\"\"\n",
    "\n",
    "cur.execute(query, (genre1, genre2, year1, year2)) # Выполнение запроса с переменными\n",
    "a = cur.fetchall()\n",
    "\n",
    "df = pd.read_sql_query(query, params= [genre1, genre2, year1, year2], con=con) # Передаем запрос в пандас\n",
    "df = df.rename(columns={\"genre_name\": \"Genre\", \"count\": \"Count\", \"role_type\" : \"Sex\"}) # Переименуем столбцы\n",
    "df = df.pivot_table(index=[\"Genre\", \"Year\"], columns = \"Sex\", values = \"Count\") # Переформатируем таблицу\n",
    "df = df.rename(columns={\"actor\": \"Man\", \"actress\" : \"Woman\"}) # Переименную столбцы в отформатированной таблице\n",
    "\n",
    "#Считаем проценты\n",
    "df[\"Man %\"] =  round(df[\"Man\"]/(df[\"Man\"] + df[\"Woman\"]) * 100, 1)\n",
    "df[\"Woman %\"] =  round(df[\"Woman\"]/(df[\"Man\"] + df[\"Woman\"]) * 100, 1)\n",
    "\n",
    "df\n"
   ],
   "metadata": {
    "collapsed": false,
    "pycharm": {
     "name": "#%%\n"
    }
   }
  }
 ],
 "metadata": {
  "kernelspec": {
   "display_name": "Python 3",
   "language": "python",
   "name": "python3"
  },
  "language_info": {
   "codemirror_mode": {
    "name": "ipython",
    "version": 2
   },
   "file_extension": ".py",
   "mimetype": "text/x-python",
   "name": "python",
   "nbconvert_exporter": "python",
   "pygments_lexer": "ipython2",
   "version": "2.7.6"
  }
 },
 "nbformat": 4,
 "nbformat_minor": 0
}